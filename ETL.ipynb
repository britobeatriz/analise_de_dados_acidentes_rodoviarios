{
 "cells": [
  {
   "cell_type": "markdown",
   "id": "5dbf0c92",
   "metadata": {},
   "source": [
    "# ETL"
   ]
  },
  {
   "cell_type": "markdown",
   "id": "a6baa6ea",
   "metadata": {},
   "source": [
    "## Bibliotecas"
   ]
  },
  {
   "cell_type": "code",
   "execution_count": 290,
   "id": "cb82de97",
   "metadata": {},
   "outputs": [],
   "source": [
    "import pandas as pd\n",
    "import re\n",
    "\n",
    "import warnings\n",
    "warnings.filterwarnings('ignore')"
   ]
  },
  {
   "cell_type": "markdown",
   "id": "482975b7",
   "metadata": {},
   "source": [
    "## datasets"
   ]
  },
  {
   "cell_type": "code",
   "execution_count": 291,
   "id": "99ad9f95",
   "metadata": {},
   "outputs": [],
   "source": [
    "c_AUTOPISTA_FERNAO_DIAS = pd.read_csv('dados/AUTOPISTA_FERNAO_DIAS.csv', sep=';', encoding='ISO-8859-1')\n",
    "c_AUTOPISTA_FLUMINENSE = pd.read_csv('dados/AUTOPISTA_FLUMINENSE.csv', sep=';', encoding='ISO-8859-1')\n",
    "c_AUTOPISTA_LITORAL_SUL = pd.read_csv('dados/AUTOPISTA_LITORAL_SUL.csv', sep=';', encoding='ISO-8859-1')\n",
    "c_AUTOPISTA_PLANALTO_SUL = pd.read_csv('dados/AUTOPISTA_PLANALTO_SUL.csv', sep=';', encoding='ISO-8859-1')\n",
    "c_AUTOPISTA_REGIS = pd.read_csv('dados/AUTOPISTA_REGIS.csv', sep=';', encoding='ISO-8859-1')\n",
    "c_CONCEBRA = pd.read_csv('dados/CONCEBRA.csv', sep=';', encoding='ISO-8859-1')\n",
    "c_CONCER = pd.read_csv('dados/CONCER.csv', sep=';', encoding='ISO-8859-1')\n",
    "c_CRO = pd.read_csv('dados/CRO.csv', sep=';', encoding='ISO-8859-1')\n",
    "c_CRT = pd.read_csv('dados/CRT.csv', sep=';', encoding='ISO-8859-1')\n",
    "c_ECO050 = pd.read_csv('dados/ECO050.csv', sep=';', encoding='ISO-8859-1')\n",
    "c_ECO101 = pd.read_csv('dados/ECO101.csv', sep=';', encoding='ISO-8859-1')\n",
    "c_ECOPONTE = pd.read_csv('dados/ECOPONTE.csv', sep=';', encoding='ISO-8859-1')\n",
    "c_ECOSUL = pd.read_csv('dados/ECOSUL.csv', sep=';', encoding='ISO-8859-1')\n",
    "c_ECOVIAS_DO_CERRADO = pd.read_csv('dados/ECOVIAS_DO_CERRADO.csv', sep=';', encoding='ISO-8859-1')\n",
    "c_MSVIA = pd.read_csv('dados/MSVIA.csv', sep=';', encoding='ISO-8859-1')\n",
    "c_NOVADUTRA = pd.read_csv('dados/NOVADUTRA.csv', sep=';', encoding='ISO-8859-1')\n",
    "c_RODOVIA_DO_ACO = pd.read_csv('dados/RODOVIA_DO_ACO.csv', sep=';',encoding='ISO-8859-1')\n",
    "c_TRANSBRASILIANA = pd.read_csv('dados/TRANSBRASILIANA.csv', sep=';', encoding='ISO-8859-1')\n",
    "c_VIA_BAHIA = pd.read_csv('dados/VIA_BAHIA.csv', sep=';', encoding='ISO-8859-1')\n",
    "c_VIA_COSTEIRA = pd.read_csv('dados/VIA_COSTEIRA.csv', sep=';', encoding='ISO-8859-1')\n",
    "c_VIA_SUL = pd.read_csv('dados/VIA_SUL.csv', sep=';', encoding='ISO-8859-1')\n",
    "c_VIA040 = pd.read_csv('dados/VIA040.csv', sep=';', encoding='ISO-8859-1')"
   ]
  },
  {
   "cell_type": "markdown",
   "id": "1198adbc",
   "metadata": {},
   "source": [
    "## Tratamento"
   ]
  },
  {
   "cell_type": "code",
   "execution_count": 292,
   "id": "e564d021",
   "metadata": {},
   "outputs": [],
   "source": [
    "# adicionando a coluna \"concessionaria\"\n",
    "\n",
    "c_AUTOPISTA_FERNAO_DIAS['concessionaria'] = 'autopista fernao dias'\n",
    "c_AUTOPISTA_FLUMINENSE['concessionaria'] = 'autopista fluminense'\n",
    "c_AUTOPISTA_LITORAL_SUL['concessionaria'] = 'autopista litoral sul'\n",
    "c_AUTOPISTA_PLANALTO_SUL['concessionaria'] = 'autopista planalto sul'\n",
    "c_AUTOPISTA_REGIS['concessionaria'] = 'autopista regis'\n",
    "c_CONCEBRA['concessionaria'] = 'concebra'\n",
    "c_CONCER['concessionaria'] = 'concer'\n",
    "c_CRO['concessionaria'] = 'cro'\n",
    "c_CRT['concessionaria'] = 'crt'\n",
    "c_ECO050 ['concessionaria'] = 'eco 050'\n",
    "c_ECO101['concessionaria'] = 'eco 101'\n",
    "c_ECOPONTE['concessionaria'] = 'ecoponte'\n",
    "c_ECOSUL['concessionaria'] = 'ecosul'\n",
    "c_ECOVIAS_DO_CERRADO['concessionaria'] = 'ecovias do cerrado'\n",
    "c_MSVIA['concessionaria'] = 'msvia'\n",
    "c_NOVADUTRA['concessionaria'] = 'novadutra'\n",
    "c_RODOVIA_DO_ACO['concessionaria'] = 'rodovia do aco'\n",
    "c_TRANSBRASILIANA['concessionaria'] = 'transbasiliana'\n",
    "c_VIA_BAHIA['concessionaria'] = 'via bahia'\n",
    "c_VIA_COSTEIRA['concessionaria'] = 'via costeira'\n",
    "c_VIA_SUL['concessionaria'] = 'via sul'\n",
    "c_VIA040['concessionaria'] = 'via 040'"
   ]
  },
  {
   "cell_type": "code",
   "execution_count": 293,
   "id": "74b27372",
   "metadata": {},
   "outputs": [],
   "source": [
    "# concatenação dos arquivos\n",
    "\n",
    "dados = pd.concat([c_AUTOPISTA_FERNAO_DIAS, c_AUTOPISTA_FLUMINENSE, c_AUTOPISTA_LITORAL_SUL, c_AUTOPISTA_PLANALTO_SUL, c_AUTOPISTA_REGIS, c_CONCEBRA, c_CONCER, c_CRO, c_CRT, c_ECO050, c_ECO101, c_ECOPONTE, c_ECOSUL, c_ECOVIAS_DO_CERRADO, c_MSVIA, c_NOVADUTRA, c_RODOVIA_DO_ACO, c_TRANSBRASILIANA, c_VIA_BAHIA, c_VIA_COSTEIRA, c_VIA_SUL, c_VIA040])"
   ]
  },
  {
   "cell_type": "code",
   "execution_count": 294,
   "id": "81b436cb",
   "metadata": {},
   "outputs": [
    {
     "name": "stdout",
     "output_type": "stream",
     "text": [
      "O DataFrame possui 795545 linhas e 24 colunas.\n"
     ]
    }
   ],
   "source": [
    "print(f'O DataFrame possui {dados.shape[0]} linhas e {dados.shape[1]} colunas.')"
   ]
  },
  {
   "cell_type": "code",
   "execution_count": 295,
   "id": "2f182cf6",
   "metadata": {},
   "outputs": [],
   "source": [
    "#pd.set_option('display.max_columns', None)\n",
    "#dados.head()"
   ]
  },
  {
   "cell_type": "code",
   "execution_count": 296,
   "id": "d237708e",
   "metadata": {},
   "outputs": [],
   "source": [
    "# removendo colunas\n",
    "\n",
    "dados.drop(columns=['tracao_animal', 'n_da_ocorrencia', 'sentido'], inplace=True)"
   ]
  },
  {
   "cell_type": "code",
   "execution_count": 297,
   "id": "68d43882",
   "metadata": {},
   "outputs": [],
   "source": [
    "# renomeando colunas\n",
    "\n",
    "dados = dados.rename(columns={'data':'data_completa'})"
   ]
  },
  {
   "cell_type": "code",
   "execution_count": 298,
   "id": "e417df95",
   "metadata": {},
   "outputs": [],
   "source": [
    "# datas\n",
    "\n",
    "dados['data_completa'] = pd.to_datetime(dados['data_completa'],format='%d/%m/%Y')"
   ]
  },
  {
   "cell_type": "code",
   "execution_count": 299,
   "id": "3a75dfc7",
   "metadata": {},
   "outputs": [],
   "source": [
    "# criando coluna 'dia_da_semana'\n",
    "\n",
    "dados['dia_da_semana'] = dados['data_completa'].apply(lambda x: x.strftime('%A'))"
   ]
  },
  {
   "cell_type": "code",
   "execution_count": 300,
   "id": "7eb59a1e",
   "metadata": {},
   "outputs": [],
   "source": [
    "dados['dia_da_semana'].replace({'Sunday': 'dom',\n",
    "                               'Monday': 'seg',\n",
    "                               'Tuesday': 'ter',\n",
    "                               'Wednesday': 'qua',\n",
    "                               'Thursday': 'qui',\n",
    "                               'Friday': 'sex',\n",
    "                               'Saturday': 'sab'}, regex=True, inplace=True) "
   ]
  },
  {
   "cell_type": "code",
   "execution_count": 301,
   "id": "ed52a0bc",
   "metadata": {},
   "outputs": [],
   "source": [
    "# criando a coluna \"fase_do_dia\"\n",
    "\n",
    "#dados.loc[dados.horario > '00:00:00', 'fase_do_dia']='madrugada'"
   ]
  },
  {
   "cell_type": "code",
   "execution_count": 302,
   "id": "c481f3bf",
   "metadata": {},
   "outputs": [],
   "source": [
    "# criando a coluna 'estado'\n",
    "\n",
    "dados[['br', 'estado']] = dados['trecho'].str.split('/', expand=True)"
   ]
  },
  {
   "cell_type": "code",
   "execution_count": 303,
   "id": "eac701a2",
   "metadata": {},
   "outputs": [],
   "source": [
    "# pd.set_option('display.max_columns', None) -> visualiza todas as colunas"
   ]
  },
  {
   "cell_type": "code",
   "execution_count": 325,
   "id": "c12427ef",
   "metadata": {},
   "outputs": [
    {
     "data": {
      "text/html": [
       "<div>\n",
       "<style scoped>\n",
       "    .dataframe tbody tr th:only-of-type {\n",
       "        vertical-align: middle;\n",
       "    }\n",
       "\n",
       "    .dataframe tbody tr th {\n",
       "        vertical-align: top;\n",
       "    }\n",
       "\n",
       "    .dataframe thead th {\n",
       "        text-align: right;\n",
       "    }\n",
       "</style>\n",
       "<table border=\"1\" class=\"dataframe\">\n",
       "  <thead>\n",
       "    <tr style=\"text-align: right;\">\n",
       "      <th></th>\n",
       "      <th>data_completa</th>\n",
       "      <th>horario</th>\n",
       "      <th>tipo_de_ocorrencia</th>\n",
       "      <th>km</th>\n",
       "      <th>trecho</th>\n",
       "      <th>tipo_de_acidente</th>\n",
       "      <th>ilesos</th>\n",
       "      <th>levemente_feridos</th>\n",
       "      <th>moderadamente_feridos</th>\n",
       "      <th>gravemente_feridos</th>\n",
       "      <th>mortos</th>\n",
       "      <th>concessionaria</th>\n",
       "      <th>dia_da_semana</th>\n",
       "      <th>fase_do_dia</th>\n",
       "      <th>br</th>\n",
       "      <th>estado</th>\n",
       "      <th>veiculos</th>\n",
       "    </tr>\n",
       "  </thead>\n",
       "  <tbody>\n",
       "    <tr>\n",
       "      <th>0</th>\n",
       "      <td>2010-01-01</td>\n",
       "      <td>07:32:00</td>\n",
       "      <td>sem vítima</td>\n",
       "      <td>54</td>\n",
       "      <td>BR-381/SP</td>\n",
       "      <td>colisão traseira</td>\n",
       "      <td>2</td>\n",
       "      <td>0</td>\n",
       "      <td>0</td>\n",
       "      <td>0</td>\n",
       "      <td>0</td>\n",
       "      <td>autopista fernao dias</td>\n",
       "      <td>sex</td>\n",
       "      <td>manhã</td>\n",
       "      <td>BR-381</td>\n",
       "      <td>SP</td>\n",
       "      <td>0</td>\n",
       "    </tr>\n",
       "    <tr>\n",
       "      <th>1</th>\n",
       "      <td>2010-01-01</td>\n",
       "      <td>11:25:00</td>\n",
       "      <td>com vítima</td>\n",
       "      <td>64</td>\n",
       "      <td>BR-381/SP</td>\n",
       "      <td>capotamento</td>\n",
       "      <td>0</td>\n",
       "      <td>1</td>\n",
       "      <td>0</td>\n",
       "      <td>0</td>\n",
       "      <td>0</td>\n",
       "      <td>autopista fernao dias</td>\n",
       "      <td>sex</td>\n",
       "      <td>manhã</td>\n",
       "      <td>BR-381</td>\n",
       "      <td>SP</td>\n",
       "      <td>0</td>\n",
       "    </tr>\n",
       "    <tr>\n",
       "      <th>2</th>\n",
       "      <td>2010-01-01</td>\n",
       "      <td>08:28:00</td>\n",
       "      <td>sem vítima</td>\n",
       "      <td>73</td>\n",
       "      <td>BR-381/SP</td>\n",
       "      <td>saida de pista</td>\n",
       "      <td>1</td>\n",
       "      <td>0</td>\n",
       "      <td>0</td>\n",
       "      <td>0</td>\n",
       "      <td>0</td>\n",
       "      <td>autopista fernao dias</td>\n",
       "      <td>sex</td>\n",
       "      <td>manhã</td>\n",
       "      <td>BR-381</td>\n",
       "      <td>SP</td>\n",
       "      <td>0</td>\n",
       "    </tr>\n",
       "    <tr>\n",
       "      <th>3</th>\n",
       "      <td>2010-01-01</td>\n",
       "      <td>14:20:00</td>\n",
       "      <td>sem vítima</td>\n",
       "      <td>76</td>\n",
       "      <td>BR-381/SP</td>\n",
       "      <td>choque - defensa, barreira ou \"submarino\"</td>\n",
       "      <td>1</td>\n",
       "      <td>0</td>\n",
       "      <td>0</td>\n",
       "      <td>0</td>\n",
       "      <td>0</td>\n",
       "      <td>autopista fernao dias</td>\n",
       "      <td>sex</td>\n",
       "      <td>tarde</td>\n",
       "      <td>BR-381</td>\n",
       "      <td>SP</td>\n",
       "      <td>0</td>\n",
       "    </tr>\n",
       "    <tr>\n",
       "      <th>4</th>\n",
       "      <td>2010-01-01</td>\n",
       "      <td>07:11:00</td>\n",
       "      <td>sem vítima</td>\n",
       "      <td>76,5</td>\n",
       "      <td>BR-381/SP</td>\n",
       "      <td>choque - defensa, barreira ou \"submarino\"</td>\n",
       "      <td>1</td>\n",
       "      <td>0</td>\n",
       "      <td>0</td>\n",
       "      <td>0</td>\n",
       "      <td>0</td>\n",
       "      <td>autopista fernao dias</td>\n",
       "      <td>sex</td>\n",
       "      <td>manhã</td>\n",
       "      <td>BR-381</td>\n",
       "      <td>SP</td>\n",
       "      <td>0</td>\n",
       "    </tr>\n",
       "  </tbody>\n",
       "</table>\n",
       "</div>"
      ],
      "text/plain": [
       "  data_completa   horario tipo_de_ocorrencia    km     trecho  \\\n",
       "0    2010-01-01  07:32:00         sem vítima    54  BR-381/SP   \n",
       "1    2010-01-01  11:25:00         com vítima    64  BR-381/SP   \n",
       "2    2010-01-01  08:28:00         sem vítima    73  BR-381/SP   \n",
       "3    2010-01-01  14:20:00         sem vítima    76  BR-381/SP   \n",
       "4    2010-01-01  07:11:00         sem vítima  76,5  BR-381/SP   \n",
       "\n",
       "                            tipo_de_acidente  ilesos  levemente_feridos  \\\n",
       "0                           colisão traseira       2                  0   \n",
       "1                                capotamento       0                  1   \n",
       "2                             saida de pista       1                  0   \n",
       "3  choque - defensa, barreira ou \"submarino\"       1                  0   \n",
       "4  choque - defensa, barreira ou \"submarino\"       1                  0   \n",
       "\n",
       "   moderadamente_feridos  gravemente_feridos  mortos         concessionaria  \\\n",
       "0                      0                   0       0  autopista fernao dias   \n",
       "1                      0                   0       0  autopista fernao dias   \n",
       "2                      0                   0       0  autopista fernao dias   \n",
       "3                      0                   0       0  autopista fernao dias   \n",
       "4                      0                   0       0  autopista fernao dias   \n",
       "\n",
       "  dia_da_semana fase_do_dia      br estado  veiculos  \n",
       "0           sex       manhã  BR-381     SP         0  \n",
       "1           sex       manhã  BR-381     SP         0  \n",
       "2           sex       manhã  BR-381     SP         0  \n",
       "3           sex       tarde  BR-381     SP         0  \n",
       "4           sex       manhã  BR-381     SP         0  "
      ]
     },
     "execution_count": 325,
     "metadata": {},
     "output_type": "execute_result"
    }
   ],
   "source": [
    "pd.set_option('display.max_columns', None)\n",
    "dados.head()"
   ]
  },
  {
   "cell_type": "code",
   "execution_count": 305,
   "id": "549b1139",
   "metadata": {},
   "outputs": [
    {
     "data": {
      "text/plain": [
       "data_completa                     datetime64[ns]\n",
       "horario                                   object\n",
       "tipo_de_ocorrencia                        object\n",
       "km                                        object\n",
       "trecho                                    object\n",
       "tipo_de_acidente                          object\n",
       "automovel                                 object\n",
       "bicicleta                                float64\n",
       "caminhao                                  object\n",
       "moto                                      object\n",
       "onibus                                   float64\n",
       "outros                                   float64\n",
       "transporte_de_cargas_especiais            object\n",
       "trator_maquinas                          float64\n",
       "utilitarios                               object\n",
       "ilesos                                    object\n",
       "levemente_feridos                        float64\n",
       "moderadamente_feridos                    float64\n",
       "gravemente_feridos                       float64\n",
       "mortos                                   float64\n",
       "concessionaria                            object\n",
       "dia_da_semana                             object\n",
       "fase_do_dia                               object\n",
       "br                                        object\n",
       "estado                                    object\n",
       "dtype: object"
      ]
     },
     "execution_count": 305,
     "metadata": {},
     "output_type": "execute_result"
    }
   ],
   "source": [
    "dados.dtypes"
   ]
  },
  {
   "cell_type": "code",
   "execution_count": 306,
   "id": "7df27c43",
   "metadata": {},
   "outputs": [],
   "source": [
    "dados['automovel'] = pd.to_numeric(dados['automovel'], errors=\"coerce\")\n",
    "dados['bicicleta'] = pd.to_numeric(dados['bicicleta'], errors=\"coerce\")\n",
    "dados['caminhao'] = pd.to_numeric(dados['caminhao'], errors=\"coerce\")\n",
    "dados['moto'] = pd.to_numeric(dados['moto'], errors=\"coerce\")\n",
    "dados['onibus'] = pd.to_numeric(dados['onibus'], errors=\"coerce\")\n",
    "dados['outros'] = pd.to_numeric(dados['outros'], errors=\"coerce\")\n",
    "dados['transporte_de_cargas_especiais'] = pd.to_numeric(dados['transporte_de_cargas_especiais'], errors=\"coerce\")\n",
    "dados['trator_maquinas'] = pd.to_numeric(dados['trator_maquinas'], errors=\"coerce\")\n",
    "dados['utilitarios'] = pd.to_numeric(dados['utilitarios'], errors=\"coerce\")\n",
    "dados['ilesos'] = pd.to_numeric(dados['ilesos'], errors=\"coerce\")\n",
    "dados['levemente_feridos'] = pd.to_numeric(dados['levemente_feridos'], errors=\"coerce\")\n",
    "dados['moderadamente_feridos'] = pd.to_numeric(dados['moderadamente_feridos'], errors=\"coerce\")\n",
    "dados['gravemente_feridos'] = pd.to_numeric(dados['gravemente_feridos'], errors=\"coerce\")\n",
    "dados['mortos'] = pd.to_numeric(dados['mortos'], errors=\"coerce\")"
   ]
  },
  {
   "cell_type": "code",
   "execution_count": 307,
   "id": "2308b1a2",
   "metadata": {},
   "outputs": [],
   "source": [
    "# criando a coluna 'veiculos'\n",
    "\n",
    "dados['veiculos'] = dados['automovel'] + dados['bicicleta'] + dados['caminhao'] + dados['moto'] + dados['onibus'] + dados['outros'] + dados['transporte_de_cargas_especiais'] + dados['trator_maquinas'] + dados['utilitarios']"
   ]
  },
  {
   "cell_type": "code",
   "execution_count": 308,
   "id": "038de2b5",
   "metadata": {},
   "outputs": [],
   "source": [
    "dados.drop(columns=['automovel', 'bicicleta', 'caminhao', 'moto', 'onibus', 'outros', 'transporte_de_cargas_especiais', 'trator_maquinas', 'utilitarios'], inplace=True)"
   ]
  },
  {
   "cell_type": "markdown",
   "id": "e51223ca",
   "metadata": {},
   "source": [
    "### Tratando dados nulos e tipos"
   ]
  },
  {
   "cell_type": "code",
   "execution_count": 309,
   "id": "9dc62284",
   "metadata": {},
   "outputs": [
    {
     "name": "stdout",
     "output_type": "stream",
     "text": [
      "Ocorrencia de valor nulo em cada coluna:\n"
     ]
    },
    {
     "data": {
      "text/plain": [
       "data_completa                 0\n",
       "horario                       0\n",
       "tipo_de_ocorrencia            3\n",
       "km                            3\n",
       "trecho                        0\n",
       "tipo_de_acidente           1833\n",
       "ilesos                     3697\n",
       "levemente_feridos        421420\n",
       "moderadamente_feridos    522460\n",
       "gravemente_feridos       551676\n",
       "mortos                   553509\n",
       "concessionaria                0\n",
       "dia_da_semana                 0\n",
       "fase_do_dia                 444\n",
       "br                            0\n",
       "estado                     1498\n",
       "veiculos                 675230\n",
       "dtype: int64"
      ]
     },
     "execution_count": 309,
     "metadata": {},
     "output_type": "execute_result"
    }
   ],
   "source": [
    "# ocorrencia\n",
    "\n",
    "print('Ocorrencia de valor nulo em cada coluna:')\n",
    "dados.isna().sum()"
   ]
  },
  {
   "cell_type": "code",
   "execution_count": 310,
   "id": "8d163d2d",
   "metadata": {},
   "outputs": [],
   "source": [
    "# removendo linhas que contem todos os dados nulos\n",
    "dados = dados.dropna(how='all')\n",
    "\n",
    "# removendo apenas das colunas 'km', 'tipo_de_ocorrencia' e 'sentido'\n",
    "dados = dados.dropna(subset=['tipo_de_ocorrencia','km'])"
   ]
  },
  {
   "cell_type": "code",
   "execution_count": 311,
   "id": "925742bf",
   "metadata": {},
   "outputs": [
    {
     "data": {
      "text/plain": [
       "array(['sem vítima', 'com vítima', '3 - Acidente com Danos Materiais',\n",
       "       '2 - Acidente com VITIMA', '1 - Acidente com Vitima Fatal',\n",
       "       'Sem vítima', 'Com vítima', ' 2- Acidente com VITIMA',\n",
       "       'ac03 - Acidente com Danos Materiais',\n",
       "       'ac02 - Acidente com Vítima', 'ac01 - Acidente com Vítima Fatal',\n",
       "       'ac02 - Acidente com vítima', 'Acidente com Vítima',\n",
       "       'Acidente com Danos Materiais', 'Acidente com Vítima Fatal',\n",
       "       'AC03 - Acidente sem VITIMA', 'AC02 - Acidente com VITIMA',\n",
       "       'AC01 - Acidente com VITIMA FATAL', 'AC04 - Atropelamento',\n",
       "       'AC05 - Atropelamento Fatal', 'AC03 - ACIDENTE SEM VÍTIMA',\n",
       "       'AC02 - ACIDENTE COM VÍTIMA', 'AC01 - ACIDENTE COM VÍTIMA FATAL',\n",
       "       '3 - Acidente com Vitima Sem Lesão', '2 - Acidente com Vitima',\n",
       "       'ac03 - Acidente com vítima ilesa',\n",
       "       'ac01 - Acidente com vitima fatal', 'Acidente com vítima',\n",
       "       'Acidente sem vítima', 'Acidente com morte',\n",
       "       'Atropelamento sem morte', 'Atropelamento com morte',\n",
       "       'Acidente sem Vítima', 'Acidente com Morte',\n",
       "       'Atropelamento sem Morte', 'Atropelamento com Morte',\n",
       "       'Acidente sem Vítima - TRECHO CONTORNO',\n",
       "       'Acidente com Vítima - TRECHO CONTORNO',\n",
       "       'Acidente com Morte - TRECHO CONTORNO',\n",
       "       'Atropelamento sem Morte - TRECHO CONTORNO',\n",
       "       'Acidente sem vítima - TRECHO CONTORNO',\n",
       "       'Atropelamento sem morte - TRECHO CONTORNO',\n",
       "       'Acidente com vítima - TRECHO CONTORNO',\n",
       "       'Acidente com morte - TRECHO CONTORNO', 'in21 - Suícidio',\n",
       "       'ac03 - Acidente sem Vitimas', 'ac02 - Acidente com VITIMA',\n",
       "       'ac01 - Acidente com Vitima Fatal', 'AC3 - Acidente sem VITIMA',\n",
       "       'AC2 - Acidente com VITIMA', 'AC1 - Acidente com VITIMA FATAL',\n",
       "       'Acidente sem VITIMA', 'Acidente com VITIMA',\n",
       "       'Acidente com VITIMA FATAL', 'ASV - Acidente SEM Vítima',\n",
       "       'AV - Acidente com VITIMA', 'AF - Acidente com Vitima Fatal',\n",
       "       'A PP - Acidente envolvendo Produto Perigoso',\n",
       "       'A PPV - Acidente envolvendo Produto Perigoso com vitima',\n",
       "       'A PPF - Acidente envolvendo Produto Perigoso vitima fatal',\n",
       "       'Atropelamento Fatal', 'Atropelamento', 'Acidente COM VITIMA',\n",
       "       'Acidente fatal', 'Acidente sem Vítimas', 'Acidente com Vítimas',\n",
       "       'Acidente Fatal'], dtype=object)"
      ]
     },
     "execution_count": 311,
     "metadata": {},
     "output_type": "execute_result"
    }
   ],
   "source": [
    "dados['tipo_de_ocorrencia'].unique()"
   ]
  },
  {
   "cell_type": "code",
   "execution_count": 312,
   "id": "9efa89fa",
   "metadata": {},
   "outputs": [],
   "source": [
    "dados['tipo_de_ocorrencia'] = dados['tipo_de_ocorrencia'].str.lower()"
   ]
  },
  {
   "cell_type": "code",
   "execution_count": 313,
   "id": "b96eabc5",
   "metadata": {},
   "outputs": [],
   "source": [
    "def remove_caracteres_especiais(texto):\n",
    "    caracteres = re.compile('[-,0,1,2,3,4,5]')\n",
    "    return caracteres.sub(r'', texto)\n",
    "\n",
    "dados['tipo_de_ocorrencia'] = dados['tipo_de_ocorrencia'].apply(remove_caracteres_especiais)"
   ]
  },
  {
   "cell_type": "code",
   "execution_count": 314,
   "id": "633592d7",
   "metadata": {},
   "outputs": [],
   "source": [
    "dados['tipo_de_ocorrencia'].replace({'vitima': 'vítima',\n",
    "                                    'vítimas': 'vítima',\n",
    "                                    '  trecho contorno': '',\n",
    "                                    'acidente ': '',\n",
    "                                    'af  ': '',\n",
    "                                    'av  ': '',\n",
    "                                    'ac  ': '',\n",
    "                                    'asv  ': '',\n",
    "                                    '  ': '',\n",
    "                                    'a ppv': '',\n",
    "                                    'a ppf': '',\n",
    "                                    'in': '',\n",
    "                                    'a pp': ''}, regex=True, inplace=True) "
   ]
  },
  {
   "cell_type": "code",
   "execution_count": 315,
   "id": "df4e80dc",
   "metadata": {
    "scrolled": false
   },
   "outputs": [
    {
     "data": {
      "text/plain": [
       "sem vítima                                  491771\n",
       "com vítima                                  267034\n",
       "com danos materiais                          28831\n",
       "atropelamento sem morte                       1988\n",
       "com vítima ilesa                              1505\n",
       "com morte                                     1334\n",
       "com vítima fatal                              1213\n",
       "com vítima sem lesão                           887\n",
       "atropelamento com morte                        427\n",
       "fatal                                          259\n",
       "atropelamento                                  176\n",
       "atropelamento fatal                             71\n",
       "sem vítimas                                     23\n",
       "envolvendo produto perigoso                     11\n",
       "suícidio                                         4\n",
       "envolvendo produto perigoso com vítima           3\n",
       "envolvendo produto perigoso vítima fatal         2\n",
       "Name: tipo_de_ocorrencia, dtype: int64"
      ]
     },
     "execution_count": 315,
     "metadata": {},
     "output_type": "execute_result"
    }
   ],
   "source": [
    "dados['tipo_de_ocorrencia'].value_counts()"
   ]
  },
  {
   "cell_type": "code",
   "execution_count": 316,
   "id": "0fb95489",
   "metadata": {},
   "outputs": [],
   "source": [
    "dados['tipo_de_acidente'] = dados['tipo_de_acidente'].fillna('outros')\n",
    "dados['tipo_de_acidente'] = dados['tipo_de_acidente'].str.lower()"
   ]
  },
  {
   "cell_type": "code",
   "execution_count": 317,
   "id": "a7a6b8df",
   "metadata": {},
   "outputs": [],
   "source": [
    "#pd.set_option('display.max_rows', None)\n",
    "#dados['tipo_de_acidente'].value_counts()"
   ]
  },
  {
   "cell_type": "code",
   "execution_count": 318,
   "id": "a2e0de71",
   "metadata": {},
   "outputs": [],
   "source": [
    "# zerando dados nulos\n",
    "dados = dados.fillna(0)"
   ]
  },
  {
   "cell_type": "code",
   "execution_count": 319,
   "id": "a7619ee0",
   "metadata": {},
   "outputs": [
    {
     "data": {
      "text/plain": [
       "data_completa            datetime64[ns]\n",
       "horario                          object\n",
       "tipo_de_ocorrencia               object\n",
       "km                               object\n",
       "trecho                           object\n",
       "tipo_de_acidente                 object\n",
       "ilesos                          float64\n",
       "levemente_feridos               float64\n",
       "moderadamente_feridos           float64\n",
       "gravemente_feridos              float64\n",
       "mortos                          float64\n",
       "concessionaria                   object\n",
       "dia_da_semana                    object\n",
       "fase_do_dia                      object\n",
       "br                               object\n",
       "estado                           object\n",
       "veiculos                        float64\n",
       "dtype: object"
      ]
     },
     "execution_count": 319,
     "metadata": {},
     "output_type": "execute_result"
    }
   ],
   "source": [
    "# tipos\n",
    "\n",
    "dados.dtypes"
   ]
  },
  {
   "cell_type": "code",
   "execution_count": 320,
   "id": "97d5ed07",
   "metadata": {},
   "outputs": [],
   "source": [
    "# tipos\n",
    "\n",
    "colunas_int = ['mortos','gravemente_feridos','moderadamente_feridos','levemente_feridos','ilesos', 'veiculos']\n",
    "dados[colunas_int] = dados[colunas_int].astype(int)"
   ]
  },
  {
   "cell_type": "code",
   "execution_count": 321,
   "id": "c020b333",
   "metadata": {},
   "outputs": [
    {
     "data": {
      "text/plain": [
       "data_completa            datetime64[ns]\n",
       "horario                          object\n",
       "tipo_de_ocorrencia               object\n",
       "km                               object\n",
       "trecho                           object\n",
       "tipo_de_acidente                 object\n",
       "ilesos                            int32\n",
       "levemente_feridos                 int32\n",
       "moderadamente_feridos             int32\n",
       "gravemente_feridos                int32\n",
       "mortos                            int32\n",
       "concessionaria                   object\n",
       "dia_da_semana                    object\n",
       "fase_do_dia                      object\n",
       "br                               object\n",
       "estado                           object\n",
       "veiculos                          int32\n",
       "dtype: object"
      ]
     },
     "execution_count": 321,
     "metadata": {},
     "output_type": "execute_result"
    }
   ],
   "source": [
    "dados.dtypes"
   ]
  },
  {
   "cell_type": "markdown",
   "id": "df593598",
   "metadata": {},
   "source": [
    "## Explorando"
   ]
  },
  {
   "cell_type": "code",
   "execution_count": 322,
   "id": "fd7497e4",
   "metadata": {},
   "outputs": [
    {
     "name": "stdout",
     "output_type": "stream",
     "text": [
      "O DataFrame possui 795539 linhas e 17 colunas.\n"
     ]
    }
   ],
   "source": [
    "print(f'O DataFrame possui {dados.shape[0]} linhas e {dados.shape[1]} colunas.')"
   ]
  },
  {
   "cell_type": "code",
   "execution_count": 323,
   "id": "c2bc576a",
   "metadata": {},
   "outputs": [
    {
     "name": "stdout",
     "output_type": "stream",
     "text": [
      "Possui as seguintes colunas:\n",
      "\n",
      " Index(['data_completa', 'horario', 'tipo_de_ocorrencia', 'km', 'trecho',\n",
      "       'tipo_de_acidente', 'ilesos', 'levemente_feridos',\n",
      "       'moderadamente_feridos', 'gravemente_feridos', 'mortos',\n",
      "       'concessionaria', 'dia_da_semana', 'fase_do_dia', 'br', 'estado',\n",
      "       'veiculos'],\n",
      "      dtype='object')\n"
     ]
    }
   ],
   "source": [
    "print(f'Possui as seguintes colunas:\\n\\n {dados.columns}')"
   ]
  },
  {
   "cell_type": "code",
   "execution_count": 324,
   "id": "7200a66c",
   "metadata": {},
   "outputs": [],
   "source": [
    "# novo dataset\n",
    "\n",
    "dados.to_csv('dados/dados.csv', index=False)"
   ]
  }
 ],
 "metadata": {
  "kernelspec": {
   "display_name": "Python 3 (ipykernel)",
   "language": "python",
   "name": "python3"
  },
  "language_info": {
   "codemirror_mode": {
    "name": "ipython",
    "version": 3
   },
   "file_extension": ".py",
   "mimetype": "text/x-python",
   "name": "python",
   "nbconvert_exporter": "python",
   "pygments_lexer": "ipython3",
   "version": "3.9.13"
  }
 },
 "nbformat": 4,
 "nbformat_minor": 5
}
