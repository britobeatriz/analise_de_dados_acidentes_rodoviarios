{
 "cells": [
  {
   "cell_type": "markdown",
   "id": "041fbcca",
   "metadata": {},
   "source": [
    "# Análises"
   ]
  },
  {
   "cell_type": "markdown",
   "id": "e11eaf2b",
   "metadata": {},
   "source": [
    "## Bibliotecas"
   ]
  },
  {
   "cell_type": "code",
   "execution_count": 177,
   "id": "faaaddfe",
   "metadata": {},
   "outputs": [],
   "source": [
    "import pandas as pd\n",
    "import seaborn as sns\n",
    "import numpy as np\n",
    "import matplotlib.pyplot as plt \n",
    "from datetime import datetime\n",
    "\n",
    "import warnings\n",
    "warnings.filterwarnings('ignore')"
   ]
  },
  {
   "cell_type": "markdown",
   "id": "dd9f69ea",
   "metadata": {},
   "source": [
    "## dataset"
   ]
  },
  {
   "cell_type": "code",
   "execution_count": 189,
   "id": "8c9dba20",
   "metadata": {},
   "outputs": [],
   "source": [
    "dados = pd.read_csv('dados/dados.csv')"
   ]
  },
  {
   "cell_type": "markdown",
   "id": "e9135d27",
   "metadata": {},
   "source": [
    "## Início das análises"
   ]
  },
  {
   "cell_type": "code",
   "execution_count": 185,
   "id": "d9d9ec7c",
   "metadata": {},
   "outputs": [
    {
     "data": {
      "text/html": [
       "<div>\n",
       "<style scoped>\n",
       "    .dataframe tbody tr th:only-of-type {\n",
       "        vertical-align: middle;\n",
       "    }\n",
       "\n",
       "    .dataframe tbody tr th {\n",
       "        vertical-align: top;\n",
       "    }\n",
       "\n",
       "    .dataframe thead th {\n",
       "        text-align: right;\n",
       "    }\n",
       "</style>\n",
       "<table border=\"1\" class=\"dataframe\">\n",
       "  <thead>\n",
       "    <tr style=\"text-align: right;\">\n",
       "      <th></th>\n",
       "      <th>data_completa</th>\n",
       "      <th>horario</th>\n",
       "      <th>tipo_de_ocorrencia</th>\n",
       "      <th>km</th>\n",
       "      <th>trecho</th>\n",
       "      <th>tipo_de_acidente</th>\n",
       "      <th>ilesos</th>\n",
       "      <th>levemente_feridos</th>\n",
       "      <th>moderadamente_feridos</th>\n",
       "      <th>gravemente_feridos</th>\n",
       "      <th>mortos</th>\n",
       "      <th>concessionaria</th>\n",
       "      <th>dia_da_semana</th>\n",
       "      <th>fase_do_dia</th>\n",
       "      <th>br</th>\n",
       "      <th>estado</th>\n",
       "      <th>veiculos</th>\n",
       "    </tr>\n",
       "  </thead>\n",
       "  <tbody>\n",
       "    <tr>\n",
       "      <th>795534</th>\n",
       "      <td>2022-06-01</td>\n",
       "      <td>14:52:54</td>\n",
       "      <td>com vítima</td>\n",
       "      <td>551,500</td>\n",
       "      <td>BR-40/MG</td>\n",
       "      <td>choque</td>\n",
       "      <td>0</td>\n",
       "      <td>1</td>\n",
       "      <td>0</td>\n",
       "      <td>0</td>\n",
       "      <td>0</td>\n",
       "      <td>via 040</td>\n",
       "      <td>qua</td>\n",
       "      <td>tarde</td>\n",
       "      <td>BR-40</td>\n",
       "      <td>MG</td>\n",
       "      <td>1</td>\n",
       "    </tr>\n",
       "    <tr>\n",
       "      <th>795535</th>\n",
       "      <td>2022-06-01</td>\n",
       "      <td>22:50:48</td>\n",
       "      <td>sem vítima</td>\n",
       "      <td>611,500</td>\n",
       "      <td>BR-40/MG</td>\n",
       "      <td>tombamento</td>\n",
       "      <td>0</td>\n",
       "      <td>0</td>\n",
       "      <td>0</td>\n",
       "      <td>0</td>\n",
       "      <td>0</td>\n",
       "      <td>via 040</td>\n",
       "      <td>qua</td>\n",
       "      <td>noite</td>\n",
       "      <td>BR-40</td>\n",
       "      <td>MG</td>\n",
       "      <td>2</td>\n",
       "    </tr>\n",
       "    <tr>\n",
       "      <th>795536</th>\n",
       "      <td>2022-06-05</td>\n",
       "      <td>22:14:38</td>\n",
       "      <td>sem vítima</td>\n",
       "      <td>35,150</td>\n",
       "      <td>BR-40/MG</td>\n",
       "      <td>atropelamento de animal</td>\n",
       "      <td>0</td>\n",
       "      <td>0</td>\n",
       "      <td>0</td>\n",
       "      <td>0</td>\n",
       "      <td>0</td>\n",
       "      <td>via 040</td>\n",
       "      <td>dom</td>\n",
       "      <td>noite</td>\n",
       "      <td>BR-40</td>\n",
       "      <td>MG</td>\n",
       "      <td>1</td>\n",
       "    </tr>\n",
       "    <tr>\n",
       "      <th>795537</th>\n",
       "      <td>2022-06-08</td>\n",
       "      <td>21:04:21</td>\n",
       "      <td>sem vítima</td>\n",
       "      <td>83,500</td>\n",
       "      <td>BR-40/MG</td>\n",
       "      <td>capotamento</td>\n",
       "      <td>0</td>\n",
       "      <td>0</td>\n",
       "      <td>0</td>\n",
       "      <td>0</td>\n",
       "      <td>0</td>\n",
       "      <td>via 040</td>\n",
       "      <td>qua</td>\n",
       "      <td>noite</td>\n",
       "      <td>BR-40</td>\n",
       "      <td>MG</td>\n",
       "      <td>1</td>\n",
       "    </tr>\n",
       "    <tr>\n",
       "      <th>795538</th>\n",
       "      <td>2022-06-08</td>\n",
       "      <td>21:08:00</td>\n",
       "      <td>sem vítima</td>\n",
       "      <td>583,400</td>\n",
       "      <td>BR-40/MG</td>\n",
       "      <td>acidentes de outra natureza</td>\n",
       "      <td>0</td>\n",
       "      <td>0</td>\n",
       "      <td>0</td>\n",
       "      <td>0</td>\n",
       "      <td>0</td>\n",
       "      <td>via 040</td>\n",
       "      <td>qua</td>\n",
       "      <td>noite</td>\n",
       "      <td>BR-40</td>\n",
       "      <td>MG</td>\n",
       "      <td>1</td>\n",
       "    </tr>\n",
       "  </tbody>\n",
       "</table>\n",
       "</div>"
      ],
      "text/plain": [
       "       data_completa   horario tipo_de_ocorrencia       km    trecho  \\\n",
       "795534    2022-06-01  14:52:54         com vítima  551,500  BR-40/MG   \n",
       "795535    2022-06-01  22:50:48         sem vítima  611,500  BR-40/MG   \n",
       "795536    2022-06-05  22:14:38         sem vítima   35,150  BR-40/MG   \n",
       "795537    2022-06-08  21:04:21         sem vítima   83,500  BR-40/MG   \n",
       "795538    2022-06-08  21:08:00         sem vítima  583,400  BR-40/MG   \n",
       "\n",
       "                   tipo_de_acidente  ilesos  levemente_feridos  \\\n",
       "795534                       choque       0                  1   \n",
       "795535                   tombamento       0                  0   \n",
       "795536      atropelamento de animal       0                  0   \n",
       "795537                  capotamento       0                  0   \n",
       "795538  acidentes de outra natureza       0                  0   \n",
       "\n",
       "        moderadamente_feridos  gravemente_feridos  mortos concessionaria  \\\n",
       "795534                      0                   0       0        via 040   \n",
       "795535                      0                   0       0        via 040   \n",
       "795536                      0                   0       0        via 040   \n",
       "795537                      0                   0       0        via 040   \n",
       "795538                      0                   0       0        via 040   \n",
       "\n",
       "       dia_da_semana fase_do_dia     br estado  veiculos  \n",
       "795534           qua       tarde  BR-40     MG         1  \n",
       "795535           qua       noite  BR-40     MG         2  \n",
       "795536           dom       noite  BR-40     MG         1  \n",
       "795537           qua       noite  BR-40     MG         1  \n",
       "795538           qua       noite  BR-40     MG         1  "
      ]
     },
     "execution_count": 185,
     "metadata": {},
     "output_type": "execute_result"
    }
   ],
   "source": [
    "pd.set_option('display.max_columns', None)\n",
    "dados.tail()"
   ]
  },
  {
   "cell_type": "code",
   "execution_count": 180,
   "id": "33de9993",
   "metadata": {},
   "outputs": [
    {
     "data": {
      "text/plain": [
       "array(['2010', '2011', '2012', '2013', '2014', '2015', '2016', '2017',\n",
       "       '2018', '2019', '2020', '2021', '2022'], dtype=object)"
      ]
     },
     "execution_count": 180,
     "metadata": {},
     "output_type": "execute_result"
    }
   ],
   "source": [
    "dados['data_completa'] = pd.to_datetime(dados['data_completa'],format='%Y-%m-%d')\n",
    "dados['ano'] = dados['data_completa'].dt.year.astype(str)\n",
    "dados['ano'].unique()"
   ]
  },
  {
   "cell_type": "markdown",
   "id": "79eb000c",
   "metadata": {},
   "source": [
    "Registros de acidentes ocorridos em rodovias federais no ano de 2010 a 2022."
   ]
  },
  {
   "cell_type": "markdown",
   "id": "f95feaac",
   "metadata": {},
   "source": [
    "### Dias da semana em que mais ocorre acidentes"
   ]
  },
  {
   "cell_type": "code",
   "execution_count": 181,
   "id": "c8723e3a",
   "metadata": {},
   "outputs": [
    {
     "data": {
      "image/png": "[encoded data removed]",
      "text/plain": [
       "<Figure size 600x400 with 1 Axes>"
      ]
     },
     "metadata": {},
     "output_type": "display_data"
    }
   ],
   "source": [
    "# criando a fig e o ax no matplotlib\n",
    "fig, ax = plt.subplots(figsize=(6,4))\n",
    "\n",
    "# criando o gráfico no seaborn\n",
    "sns.countplot(dados['dia_da_semana'], ax=ax, palette=['#2b5070'])\n",
    "\n",
    "# modificando o fundo\n",
    "ax.set_frame_on(False)\n",
    "\n",
    "# retirando o eixo Y\n",
    "ax.get_yaxis().set_visible(False)\n",
    "\n",
    "# retirando os ticks do eixo x\n",
    "ax.tick_params(axis='x', length=0, labelsize=12, colors='grey')\n",
    "\n",
    "# ajustando o titulo \"dias da semana\"\n",
    "ax.set_xlabel('Dias da Semana', labelpad=20, fontdict={'fontsize':14}, color='#4c4c4c', loc='center')\n",
    "\n",
    "# colocando os rótulos\n",
    "for retangulo in ax.patches:\n",
    "    ax.text(retangulo.get_x() + retangulo.get_width() / 2,\n",
    "           retangulo.get_height() + 22,\n",
    "           '{:,}'.format(int(retangulo.get_height())).replace(',','.'),\n",
    "           ha='center',\n",
    "           fontsize=11,\n",
    "           color='grey')"
   ]
  },
  {
   "cell_type": "markdown",
   "id": "66b0a389",
   "metadata": {},
   "source": [
    "Sexta-feira é o dia que mais ocorre acidentes, seguido de sábado e domingo. Sendo terça-feira o dia que menos ocorre acidentes. "
   ]
  },
  {
   "cell_type": "markdown",
   "id": "00e98912",
   "metadata": {},
   "source": [
    "### Fase do dia em que mais ocorre acidentes"
   ]
  }
 ],
 "metadata": {
  "kernelspec": {
   "display_name": "Python 3 (ipykernel)",
   "language": "python",
   "name": "python3"
  },
  "language_info": {
   "codemirror_mode": {
    "name": "ipython",
    "version": 3
   },
   "file_extension": ".py",
   "mimetype": "text/x-python",
   "name": "python",
   "nbconvert_exporter": "python",
   "pygments_lexer": "ipython3",
   "version": "3.9.13"
  }
 },
 "nbformat": 4,
 "nbformat_minor": 5
}
